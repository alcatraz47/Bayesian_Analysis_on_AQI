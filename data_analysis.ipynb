{
 "cells": [
  {
   "cell_type": "code",
   "execution_count": 76,
   "metadata": {},
   "outputs": [],
   "source": [
    "import os\n",
    "import random\n",
    "import numpy as np\n",
    "import pandas as pd\n",
    "import seaborn as sns\n",
    "import matplotlib as mlt\n",
    "import matplotlib.pyplot as plt\n",
    "from sklearn.preprocessing import MinMaxScaler"
   ]
  },
  {
   "cell_type": "code",
   "execution_count": 78,
   "metadata": {},
   "outputs": [
    {
     "data": {
      "text/plain": [
       "['abda_project_instructions.pdf', 'codebase', 'dataset', 'others', 'report']"
      ]
     },
     "execution_count": 78,
     "metadata": {},
     "output_type": "execute_result"
    }
   ],
   "source": [
    "working_dir = os.path.abspath(os.getcwd())\n",
    "parent_dir = os.path.dirname(working_dir)\n",
    "os.listdir(parent_dir)"
   ]
  },
  {
   "cell_type": "code",
   "execution_count": 79,
   "metadata": {},
   "outputs": [
    {
     "data": {
      "text/plain": [
       "'c:\\\\Users\\\\mahmu\\\\iCloudDrive\\\\Study\\\\Winter_24_25\\\\ABDA\\\\Project\\\\dataset'"
      ]
     },
     "execution_count": 79,
     "metadata": {},
     "output_type": "execute_result"
    }
   ],
   "source": [
    "data_dir = os.path.join(parent_dir, \"dataset\")\n",
    "data_dir"
   ]
  },
  {
   "cell_type": "code",
   "execution_count": 80,
   "metadata": {},
   "outputs": [
    {
     "data": {
      "text/plain": [
       "['air+quality.zip', 'AirQualityUCI.csv', 'AirQualityUCI.xlsx']"
      ]
     },
     "execution_count": 80,
     "metadata": {},
     "output_type": "execute_result"
    }
   ],
   "source": [
    "os.listdir(data_dir)"
   ]
  },
  {
   "cell_type": "code",
   "execution_count": 81,
   "metadata": {},
   "outputs": [],
   "source": [
    "df = pd.read_excel(f\"{data_dir}/AirQualityUCI.xlsx\")"
   ]
  },
  {
   "cell_type": "code",
   "execution_count": 82,
   "metadata": {},
   "outputs": [
    {
     "data": {
      "text/html": [
       "<div>\n",
       "<style scoped>\n",
       "    .dataframe tbody tr th:only-of-type {\n",
       "        vertical-align: middle;\n",
       "    }\n",
       "\n",
       "    .dataframe tbody tr th {\n",
       "        vertical-align: top;\n",
       "    }\n",
       "\n",
       "    .dataframe thead th {\n",
       "        text-align: right;\n",
       "    }\n",
       "</style>\n",
       "<table border=\"1\" class=\"dataframe\">\n",
       "  <thead>\n",
       "    <tr style=\"text-align: right;\">\n",
       "      <th></th>\n",
       "      <th>Date</th>\n",
       "      <th>Time</th>\n",
       "      <th>CO(GT)</th>\n",
       "      <th>PT08.S1(CO)</th>\n",
       "      <th>NMHC(GT)</th>\n",
       "      <th>C6H6(GT)</th>\n",
       "      <th>PT08.S2(NMHC)</th>\n",
       "      <th>NOx(GT)</th>\n",
       "      <th>PT08.S3(NOx)</th>\n",
       "      <th>NO2(GT)</th>\n",
       "      <th>PT08.S4(NO2)</th>\n",
       "      <th>PT08.S5(O3)</th>\n",
       "      <th>T</th>\n",
       "      <th>RH</th>\n",
       "      <th>AH</th>\n",
       "    </tr>\n",
       "  </thead>\n",
       "  <tbody>\n",
       "    <tr>\n",
       "      <th>0</th>\n",
       "      <td>2004-03-10</td>\n",
       "      <td>18:00:00</td>\n",
       "      <td>2.6</td>\n",
       "      <td>1360.00</td>\n",
       "      <td>150</td>\n",
       "      <td>11.881723</td>\n",
       "      <td>1045.50</td>\n",
       "      <td>166.0</td>\n",
       "      <td>1056.25</td>\n",
       "      <td>113.0</td>\n",
       "      <td>1692.00</td>\n",
       "      <td>1267.50</td>\n",
       "      <td>13.60</td>\n",
       "      <td>48.875001</td>\n",
       "      <td>0.757754</td>\n",
       "    </tr>\n",
       "    <tr>\n",
       "      <th>1</th>\n",
       "      <td>2004-03-10</td>\n",
       "      <td>19:00:00</td>\n",
       "      <td>2.0</td>\n",
       "      <td>1292.25</td>\n",
       "      <td>112</td>\n",
       "      <td>9.397165</td>\n",
       "      <td>954.75</td>\n",
       "      <td>103.0</td>\n",
       "      <td>1173.75</td>\n",
       "      <td>92.0</td>\n",
       "      <td>1558.75</td>\n",
       "      <td>972.25</td>\n",
       "      <td>13.30</td>\n",
       "      <td>47.700000</td>\n",
       "      <td>0.725487</td>\n",
       "    </tr>\n",
       "    <tr>\n",
       "      <th>2</th>\n",
       "      <td>2004-03-10</td>\n",
       "      <td>20:00:00</td>\n",
       "      <td>2.2</td>\n",
       "      <td>1402.00</td>\n",
       "      <td>88</td>\n",
       "      <td>8.997817</td>\n",
       "      <td>939.25</td>\n",
       "      <td>131.0</td>\n",
       "      <td>1140.00</td>\n",
       "      <td>114.0</td>\n",
       "      <td>1554.50</td>\n",
       "      <td>1074.00</td>\n",
       "      <td>11.90</td>\n",
       "      <td>53.975000</td>\n",
       "      <td>0.750239</td>\n",
       "    </tr>\n",
       "    <tr>\n",
       "      <th>3</th>\n",
       "      <td>2004-03-10</td>\n",
       "      <td>21:00:00</td>\n",
       "      <td>2.2</td>\n",
       "      <td>1375.50</td>\n",
       "      <td>80</td>\n",
       "      <td>9.228796</td>\n",
       "      <td>948.25</td>\n",
       "      <td>172.0</td>\n",
       "      <td>1092.00</td>\n",
       "      <td>122.0</td>\n",
       "      <td>1583.75</td>\n",
       "      <td>1203.25</td>\n",
       "      <td>11.00</td>\n",
       "      <td>60.000000</td>\n",
       "      <td>0.786713</td>\n",
       "    </tr>\n",
       "    <tr>\n",
       "      <th>4</th>\n",
       "      <td>2004-03-10</td>\n",
       "      <td>22:00:00</td>\n",
       "      <td>1.6</td>\n",
       "      <td>1272.25</td>\n",
       "      <td>51</td>\n",
       "      <td>6.518224</td>\n",
       "      <td>835.50</td>\n",
       "      <td>131.0</td>\n",
       "      <td>1205.00</td>\n",
       "      <td>116.0</td>\n",
       "      <td>1490.00</td>\n",
       "      <td>1110.00</td>\n",
       "      <td>11.15</td>\n",
       "      <td>59.575001</td>\n",
       "      <td>0.788794</td>\n",
       "    </tr>\n",
       "  </tbody>\n",
       "</table>\n",
       "</div>"
      ],
      "text/plain": [
       "        Date      Time  CO(GT)  PT08.S1(CO)  NMHC(GT)   C6H6(GT)  \\\n",
       "0 2004-03-10  18:00:00     2.6      1360.00       150  11.881723   \n",
       "1 2004-03-10  19:00:00     2.0      1292.25       112   9.397165   \n",
       "2 2004-03-10  20:00:00     2.2      1402.00        88   8.997817   \n",
       "3 2004-03-10  21:00:00     2.2      1375.50        80   9.228796   \n",
       "4 2004-03-10  22:00:00     1.6      1272.25        51   6.518224   \n",
       "\n",
       "   PT08.S2(NMHC)  NOx(GT)  PT08.S3(NOx)  NO2(GT)  PT08.S4(NO2)  PT08.S5(O3)  \\\n",
       "0        1045.50    166.0       1056.25    113.0       1692.00      1267.50   \n",
       "1         954.75    103.0       1173.75     92.0       1558.75       972.25   \n",
       "2         939.25    131.0       1140.00    114.0       1554.50      1074.00   \n",
       "3         948.25    172.0       1092.00    122.0       1583.75      1203.25   \n",
       "4         835.50    131.0       1205.00    116.0       1490.00      1110.00   \n",
       "\n",
       "       T         RH        AH  \n",
       "0  13.60  48.875001  0.757754  \n",
       "1  13.30  47.700000  0.725487  \n",
       "2  11.90  53.975000  0.750239  \n",
       "3  11.00  60.000000  0.786713  \n",
       "4  11.15  59.575001  0.788794  "
      ]
     },
     "execution_count": 82,
     "metadata": {},
     "output_type": "execute_result"
    }
   ],
   "source": [
    "df.head()"
   ]
  },
  {
   "cell_type": "code",
   "execution_count": 83,
   "metadata": {},
   "outputs": [
    {
     "data": {
      "text/plain": [
       "Index(['Date', 'Time', 'CO(GT)', 'PT08.S1(CO)', 'NMHC(GT)', 'C6H6(GT)',\n",
       "       'PT08.S2(NMHC)', 'NOx(GT)', 'PT08.S3(NOx)', 'NO2(GT)', 'PT08.S4(NO2)',\n",
       "       'PT08.S5(O3)', 'T', 'RH', 'AH'],\n",
       "      dtype='object')"
      ]
     },
     "execution_count": 83,
     "metadata": {},
     "output_type": "execute_result"
    }
   ],
   "source": [
    "df.columns"
   ]
  },
  {
   "cell_type": "code",
   "execution_count": 84,
   "metadata": {},
   "outputs": [],
   "source": [
    "relevant_columns = df.columns[2:]"
   ]
  },
  {
   "cell_type": "code",
   "execution_count": 85,
   "metadata": {},
   "outputs": [
    {
     "data": {
      "text/plain": [
       "Index(['CO(GT)', 'PT08.S1(CO)', 'NMHC(GT)', 'C6H6(GT)', 'PT08.S2(NMHC)',\n",
       "       'NOx(GT)', 'PT08.S3(NOx)', 'NO2(GT)', 'PT08.S4(NO2)', 'PT08.S5(O3)',\n",
       "       'T', 'RH', 'AH'],\n",
       "      dtype='object')"
      ]
     },
     "execution_count": 85,
     "metadata": {},
     "output_type": "execute_result"
    }
   ],
   "source": [
    "relevant_columns"
   ]
  },
  {
   "cell_type": "markdown",
   "metadata": {},
   "source": [
    "Exploratory Data Analysis:\n",
    "1. Checking for missing value\n",
    "2. Target value CO(GT) distribution checking"
   ]
  },
  {
   "cell_type": "code",
   "execution_count": 86,
   "metadata": {},
   "outputs": [
    {
     "data": {
      "text/plain": [
       "Date             0\n",
       "Time             0\n",
       "CO(GT)           0\n",
       "PT08.S1(CO)      0\n",
       "NMHC(GT)         0\n",
       "C6H6(GT)         0\n",
       "PT08.S2(NMHC)    0\n",
       "NOx(GT)          0\n",
       "PT08.S3(NOx)     0\n",
       "NO2(GT)          0\n",
       "PT08.S4(NO2)     0\n",
       "PT08.S5(O3)      0\n",
       "T                0\n",
       "RH               0\n",
       "AH               0\n",
       "dtype: int64"
      ]
     },
     "execution_count": 86,
     "metadata": {},
     "output_type": "execute_result"
    }
   ],
   "source": [
    "df.isna().sum()"
   ]
  },
  {
   "cell_type": "code",
   "execution_count": 89,
   "metadata": {},
   "outputs": [
    {
     "data": {
      "image/png": "[encoded data removed]",
      "text/plain": [
       "<Figure size 1000x600 with 1 Axes>"
      ]
     },
     "metadata": {},
     "output_type": "display_data"
    }
   ],
   "source": [
    "# distribution of the target variable: CO(GT)\n",
    "plt.figure(figsize=(10, 6))\n",
    "sns.histplot(df['CO(GT)'], kde=True, bins=30, color='blue', alpha=0.7)\n",
    "plt.title('Distribution of CO(GT)')\n",
    "plt.xlabel('CO(GT)')\n",
    "plt.ylabel('Frequency')\n",
    "plt.show()"
   ]
  },
  {
   "cell_type": "code",
   "execution_count": 91,
   "metadata": {},
   "outputs": [
    {
     "name": "stderr",
     "output_type": "stream",
     "text": [
      "C:\\Users\\mahmu\\AppData\\Local\\Temp\\ipykernel_35020\\2256575511.py:3: FutureWarning: \n",
      "\n",
      "Passing `palette` without assigning `hue` is deprecated and will be removed in v0.14.0. Assign the `x` variable to `hue` and set `legend=False` for the same effect.\n",
      "\n",
      "  sns.boxplot(x=pd.qcut(df['T'], q=5), y=df['CO(GT)'], palette='viridis')\n"
     ]
    },
    {
     "data": {
      "image/png": "[encoded data removed]",
      "text/plain": [
       "<Figure size 1000x600 with 1 Axes>"
      ]
     },
     "metadata": {},
     "output_type": "display_data"
    }
   ],
   "source": [
    "# boxplot of CO(GT) vs Temperature (T)\n",
    "plt.figure(figsize=(10, 6))\n",
    "sns.boxplot(x=pd.qcut(df['T'], q=5), y=df['CO(GT)'], palette='viridis')\n",
    "plt.title('Boxplot of CO(GT) by Temperature Levels')\n",
    "plt.xlabel('Temperature (Binned)')\n",
    "plt.ylabel('CO(GT)')\n",
    "plt.xticks(rotation=45)\n",
    "plt.show()"
   ]
  },
  {
   "cell_type": "code",
   "execution_count": null,
   "metadata": {},
   "outputs": [],
   "source": []
  },
  {
   "cell_type": "markdown",
   "metadata": {},
   "source": [
    "Data Preprocessing Steps:\n",
    "1. Dropping null values\n",
    "2. Standardising cloumn names\n",
    "3. Scaling: MinMax scaler"
   ]
  },
  {
   "cell_type": "code",
   "execution_count": 12,
   "metadata": {},
   "outputs": [],
   "source": [
    "# dropping null values\n",
    "cleaned_data = df[relevant_columns].dropna()"
   ]
  },
  {
   "cell_type": "code",
   "execution_count": 13,
   "metadata": {},
   "outputs": [
    {
     "data": {
      "text/html": [
       "<div>\n",
       "<style scoped>\n",
       "    .dataframe tbody tr th:only-of-type {\n",
       "        vertical-align: middle;\n",
       "    }\n",
       "\n",
       "    .dataframe tbody tr th {\n",
       "        vertical-align: top;\n",
       "    }\n",
       "\n",
       "    .dataframe thead th {\n",
       "        text-align: right;\n",
       "    }\n",
       "</style>\n",
       "<table border=\"1\" class=\"dataframe\">\n",
       "  <thead>\n",
       "    <tr style=\"text-align: right;\">\n",
       "      <th></th>\n",
       "      <th>CO(GT)</th>\n",
       "      <th>PT08.S1(CO)</th>\n",
       "      <th>NMHC(GT)</th>\n",
       "      <th>C6H6(GT)</th>\n",
       "      <th>PT08.S2(NMHC)</th>\n",
       "      <th>NOx(GT)</th>\n",
       "      <th>PT08.S3(NOx)</th>\n",
       "      <th>NO2(GT)</th>\n",
       "      <th>PT08.S4(NO2)</th>\n",
       "      <th>PT08.S5(O3)</th>\n",
       "      <th>T</th>\n",
       "      <th>RH</th>\n",
       "      <th>AH</th>\n",
       "    </tr>\n",
       "  </thead>\n",
       "  <tbody>\n",
       "    <tr>\n",
       "      <th>0</th>\n",
       "      <td>2.6</td>\n",
       "      <td>1360.00</td>\n",
       "      <td>150</td>\n",
       "      <td>11.881723</td>\n",
       "      <td>1045.50</td>\n",
       "      <td>166.0</td>\n",
       "      <td>1056.25</td>\n",
       "      <td>113.0</td>\n",
       "      <td>1692.00</td>\n",
       "      <td>1267.50</td>\n",
       "      <td>13.60</td>\n",
       "      <td>48.875001</td>\n",
       "      <td>0.757754</td>\n",
       "    </tr>\n",
       "    <tr>\n",
       "      <th>1</th>\n",
       "      <td>2.0</td>\n",
       "      <td>1292.25</td>\n",
       "      <td>112</td>\n",
       "      <td>9.397165</td>\n",
       "      <td>954.75</td>\n",
       "      <td>103.0</td>\n",
       "      <td>1173.75</td>\n",
       "      <td>92.0</td>\n",
       "      <td>1558.75</td>\n",
       "      <td>972.25</td>\n",
       "      <td>13.30</td>\n",
       "      <td>47.700000</td>\n",
       "      <td>0.725487</td>\n",
       "    </tr>\n",
       "    <tr>\n",
       "      <th>2</th>\n",
       "      <td>2.2</td>\n",
       "      <td>1402.00</td>\n",
       "      <td>88</td>\n",
       "      <td>8.997817</td>\n",
       "      <td>939.25</td>\n",
       "      <td>131.0</td>\n",
       "      <td>1140.00</td>\n",
       "      <td>114.0</td>\n",
       "      <td>1554.50</td>\n",
       "      <td>1074.00</td>\n",
       "      <td>11.90</td>\n",
       "      <td>53.975000</td>\n",
       "      <td>0.750239</td>\n",
       "    </tr>\n",
       "    <tr>\n",
       "      <th>3</th>\n",
       "      <td>2.2</td>\n",
       "      <td>1375.50</td>\n",
       "      <td>80</td>\n",
       "      <td>9.228796</td>\n",
       "      <td>948.25</td>\n",
       "      <td>172.0</td>\n",
       "      <td>1092.00</td>\n",
       "      <td>122.0</td>\n",
       "      <td>1583.75</td>\n",
       "      <td>1203.25</td>\n",
       "      <td>11.00</td>\n",
       "      <td>60.000000</td>\n",
       "      <td>0.786713</td>\n",
       "    </tr>\n",
       "    <tr>\n",
       "      <th>4</th>\n",
       "      <td>1.6</td>\n",
       "      <td>1272.25</td>\n",
       "      <td>51</td>\n",
       "      <td>6.518224</td>\n",
       "      <td>835.50</td>\n",
       "      <td>131.0</td>\n",
       "      <td>1205.00</td>\n",
       "      <td>116.0</td>\n",
       "      <td>1490.00</td>\n",
       "      <td>1110.00</td>\n",
       "      <td>11.15</td>\n",
       "      <td>59.575001</td>\n",
       "      <td>0.788794</td>\n",
       "    </tr>\n",
       "  </tbody>\n",
       "</table>\n",
       "</div>"
      ],
      "text/plain": [
       "   CO(GT)  PT08.S1(CO)  NMHC(GT)   C6H6(GT)  PT08.S2(NMHC)  NOx(GT)  \\\n",
       "0     2.6      1360.00       150  11.881723        1045.50    166.0   \n",
       "1     2.0      1292.25       112   9.397165         954.75    103.0   \n",
       "2     2.2      1402.00        88   8.997817         939.25    131.0   \n",
       "3     2.2      1375.50        80   9.228796         948.25    172.0   \n",
       "4     1.6      1272.25        51   6.518224         835.50    131.0   \n",
       "\n",
       "   PT08.S3(NOx)  NO2(GT)  PT08.S4(NO2)  PT08.S5(O3)      T         RH  \\\n",
       "0       1056.25    113.0       1692.00      1267.50  13.60  48.875001   \n",
       "1       1173.75     92.0       1558.75       972.25  13.30  47.700000   \n",
       "2       1140.00    114.0       1554.50      1074.00  11.90  53.975000   \n",
       "3       1092.00    122.0       1583.75      1203.25  11.00  60.000000   \n",
       "4       1205.00    116.0       1490.00      1110.00  11.15  59.575001   \n",
       "\n",
       "         AH  \n",
       "0  0.757754  \n",
       "1  0.725487  \n",
       "2  0.750239  \n",
       "3  0.786713  \n",
       "4  0.788794  "
      ]
     },
     "execution_count": 13,
     "metadata": {},
     "output_type": "execute_result"
    }
   ],
   "source": [
    "cleaned_data.head()"
   ]
  },
  {
   "cell_type": "code",
   "execution_count": 14,
   "metadata": {},
   "outputs": [],
   "source": [
    "# standardizing column names\n",
    "cleaned_data.columns = [col.strip().replace(\" \", \"_\").replace(\"(\", \"\").replace(\")\", \"\") for col in cleaned_data.columns]"
   ]
  },
  {
   "cell_type": "code",
   "execution_count": 15,
   "metadata": {},
   "outputs": [],
   "source": [
    "# normalising columns using MinMaxScaler\n",
    "# initialising the scaler\n",
    "scaler = MinMaxScaler()"
   ]
  },
  {
   "cell_type": "code",
   "execution_count": 55,
   "metadata": {},
   "outputs": [],
   "source": [
    "# fitting and transforming cleaned data\n",
    "scaled_data = scaler.fit_transform(cleaned_data)\n",
    "\n",
    "# extracting in dataframe\n",
    "normalised_data = pd.DataFrame(scaled_data, columns=cleaned_data.columns)"
   ]
  },
  {
   "cell_type": "code",
   "execution_count": 56,
   "metadata": {},
   "outputs": [
    {
     "data": {
      "text/html": [
       "<div>\n",
       "<style scoped>\n",
       "    .dataframe tbody tr th:only-of-type {\n",
       "        vertical-align: middle;\n",
       "    }\n",
       "\n",
       "    .dataframe tbody tr th {\n",
       "        vertical-align: top;\n",
       "    }\n",
       "\n",
       "    .dataframe thead th {\n",
       "        text-align: right;\n",
       "    }\n",
       "</style>\n",
       "<table border=\"1\" class=\"dataframe\">\n",
       "  <thead>\n",
       "    <tr style=\"text-align: right;\">\n",
       "      <th></th>\n",
       "      <th>COGT</th>\n",
       "      <th>PT08.S1CO</th>\n",
       "      <th>NMHCGT</th>\n",
       "      <th>C6H6GT</th>\n",
       "      <th>PT08.S2NMHC</th>\n",
       "      <th>NOxGT</th>\n",
       "      <th>PT08.S3NOx</th>\n",
       "      <th>NO2GT</th>\n",
       "      <th>PT08.S4NO2</th>\n",
       "      <th>PT08.S5O3</th>\n",
       "      <th>T</th>\n",
       "      <th>RH</th>\n",
       "      <th>AH</th>\n",
       "    </tr>\n",
       "  </thead>\n",
       "  <tbody>\n",
       "    <tr>\n",
       "      <th>0</th>\n",
       "      <td>0.956111</td>\n",
       "      <td>0.696506</td>\n",
       "      <td>0.251980</td>\n",
       "      <td>0.803369</td>\n",
       "      <td>0.515949</td>\n",
       "      <td>0.217987</td>\n",
       "      <td>0.435782</td>\n",
       "      <td>0.579952</td>\n",
       "      <td>0.635966</td>\n",
       "      <td>0.538977</td>\n",
       "      <td>0.873262</td>\n",
       "      <td>0.861979</td>\n",
       "      <td>0.992715</td>\n",
       "    </tr>\n",
       "    <tr>\n",
       "      <th>1</th>\n",
       "      <td>0.953280</td>\n",
       "      <td>0.666257</td>\n",
       "      <td>0.224622</td>\n",
       "      <td>0.793949</td>\n",
       "      <td>0.478355</td>\n",
       "      <td>0.180465</td>\n",
       "      <td>0.476541</td>\n",
       "      <td>0.541041</td>\n",
       "      <td>0.591176</td>\n",
       "      <td>0.430539</td>\n",
       "      <td>0.872036</td>\n",
       "      <td>0.857910</td>\n",
       "      <td>0.992555</td>\n",
       "    </tr>\n",
       "    <tr>\n",
       "      <th>2</th>\n",
       "      <td>0.954224</td>\n",
       "      <td>0.715258</td>\n",
       "      <td>0.207343</td>\n",
       "      <td>0.792434</td>\n",
       "      <td>0.471935</td>\n",
       "      <td>0.197141</td>\n",
       "      <td>0.464834</td>\n",
       "      <td>0.581805</td>\n",
       "      <td>0.589748</td>\n",
       "      <td>0.467909</td>\n",
       "      <td>0.866312</td>\n",
       "      <td>0.879643</td>\n",
       "      <td>0.992678</td>\n",
       "    </tr>\n",
       "    <tr>\n",
       "      <th>3</th>\n",
       "      <td>0.954224</td>\n",
       "      <td>0.703427</td>\n",
       "      <td>0.201584</td>\n",
       "      <td>0.793310</td>\n",
       "      <td>0.475663</td>\n",
       "      <td>0.221560</td>\n",
       "      <td>0.448183</td>\n",
       "      <td>0.596628</td>\n",
       "      <td>0.599580</td>\n",
       "      <td>0.515380</td>\n",
       "      <td>0.862633</td>\n",
       "      <td>0.900511</td>\n",
       "      <td>0.992858</td>\n",
       "    </tr>\n",
       "    <tr>\n",
       "      <th>4</th>\n",
       "      <td>0.951392</td>\n",
       "      <td>0.657328</td>\n",
       "      <td>0.180706</td>\n",
       "      <td>0.783033</td>\n",
       "      <td>0.428956</td>\n",
       "      <td>0.197141</td>\n",
       "      <td>0.487382</td>\n",
       "      <td>0.585510</td>\n",
       "      <td>0.568067</td>\n",
       "      <td>0.481131</td>\n",
       "      <td>0.863246</td>\n",
       "      <td>0.899039</td>\n",
       "      <td>0.992868</td>\n",
       "    </tr>\n",
       "  </tbody>\n",
       "</table>\n",
       "</div>"
      ],
      "text/plain": [
       "       COGT  PT08.S1CO    NMHCGT    C6H6GT  PT08.S2NMHC     NOxGT  PT08.S3NOx  \\\n",
       "0  0.956111   0.696506  0.251980  0.803369     0.515949  0.217987    0.435782   \n",
       "1  0.953280   0.666257  0.224622  0.793949     0.478355  0.180465    0.476541   \n",
       "2  0.954224   0.715258  0.207343  0.792434     0.471935  0.197141    0.464834   \n",
       "3  0.954224   0.703427  0.201584  0.793310     0.475663  0.221560    0.448183   \n",
       "4  0.951392   0.657328  0.180706  0.783033     0.428956  0.197141    0.487382   \n",
       "\n",
       "      NO2GT  PT08.S4NO2  PT08.S5O3         T        RH        AH  \n",
       "0  0.579952    0.635966   0.538977  0.873262  0.861979  0.992715  \n",
       "1  0.541041    0.591176   0.430539  0.872036  0.857910  0.992555  \n",
       "2  0.581805    0.589748   0.467909  0.866312  0.879643  0.992678  \n",
       "3  0.596628    0.599580   0.515380  0.862633  0.900511  0.992858  \n",
       "4  0.585510    0.568067   0.481131  0.863246  0.899039  0.992868  "
      ]
     },
     "execution_count": 56,
     "metadata": {},
     "output_type": "execute_result"
    }
   ],
   "source": [
    "normalised_data.head()"
   ]
  },
  {
   "cell_type": "code",
   "execution_count": 57,
   "metadata": {},
   "outputs": [
    {
     "data": {
      "text/plain": [
       "count    9357.000000\n",
       "mean        0.829452\n",
       "std         0.177386\n",
       "min         0.000000\n",
       "25%         0.810633\n",
       "50%         0.860854\n",
       "75%         0.907005\n",
       "max         1.000000\n",
       "Name: RH, dtype: float64"
      ]
     },
     "execution_count": 57,
     "metadata": {},
     "output_type": "execute_result"
    }
   ],
   "source": [
    "normalised_data[\"RH\"].describe()"
   ]
  },
  {
   "cell_type": "code",
   "execution_count": 58,
   "metadata": {},
   "outputs": [],
   "source": [
    "# adding bins for categorical analysis\n",
    "# for initial checking,  using rtelative humidity at first\n",
    "normalised_data['RH_Bins'] = pd.qcut(cleaned_data['RH'], q=4, labels=['Low', 'Medium', 'High', 'Very High'])"
   ]
  },
  {
   "cell_type": "code",
   "execution_count": 59,
   "metadata": {},
   "outputs": [
    {
     "data": {
      "text/html": [
       "<div>\n",
       "<style scoped>\n",
       "    .dataframe tbody tr th:only-of-type {\n",
       "        vertical-align: middle;\n",
       "    }\n",
       "\n",
       "    .dataframe tbody tr th {\n",
       "        vertical-align: top;\n",
       "    }\n",
       "\n",
       "    .dataframe thead th {\n",
       "        text-align: right;\n",
       "    }\n",
       "</style>\n",
       "<table border=\"1\" class=\"dataframe\">\n",
       "  <thead>\n",
       "    <tr style=\"text-align: right;\">\n",
       "      <th></th>\n",
       "      <th>COGT</th>\n",
       "      <th>PT08.S1CO</th>\n",
       "      <th>NMHCGT</th>\n",
       "      <th>C6H6GT</th>\n",
       "      <th>PT08.S2NMHC</th>\n",
       "      <th>NOxGT</th>\n",
       "      <th>PT08.S3NOx</th>\n",
       "      <th>NO2GT</th>\n",
       "      <th>PT08.S4NO2</th>\n",
       "      <th>PT08.S5O3</th>\n",
       "      <th>T</th>\n",
       "      <th>RH</th>\n",
       "      <th>AH</th>\n",
       "      <th>RH_Bins</th>\n",
       "    </tr>\n",
       "  </thead>\n",
       "  <tbody>\n",
       "    <tr>\n",
       "      <th>0</th>\n",
       "      <td>0.956111</td>\n",
       "      <td>0.696506</td>\n",
       "      <td>0.251980</td>\n",
       "      <td>0.803369</td>\n",
       "      <td>0.515949</td>\n",
       "      <td>0.217987</td>\n",
       "      <td>0.435782</td>\n",
       "      <td>0.579952</td>\n",
       "      <td>0.635966</td>\n",
       "      <td>0.538977</td>\n",
       "      <td>0.873262</td>\n",
       "      <td>0.861979</td>\n",
       "      <td>0.992715</td>\n",
       "      <td>High</td>\n",
       "    </tr>\n",
       "    <tr>\n",
       "      <th>1</th>\n",
       "      <td>0.953280</td>\n",
       "      <td>0.666257</td>\n",
       "      <td>0.224622</td>\n",
       "      <td>0.793949</td>\n",
       "      <td>0.478355</td>\n",
       "      <td>0.180465</td>\n",
       "      <td>0.476541</td>\n",
       "      <td>0.541041</td>\n",
       "      <td>0.591176</td>\n",
       "      <td>0.430539</td>\n",
       "      <td>0.872036</td>\n",
       "      <td>0.857910</td>\n",
       "      <td>0.992555</td>\n",
       "      <td>Medium</td>\n",
       "    </tr>\n",
       "    <tr>\n",
       "      <th>2</th>\n",
       "      <td>0.954224</td>\n",
       "      <td>0.715258</td>\n",
       "      <td>0.207343</td>\n",
       "      <td>0.792434</td>\n",
       "      <td>0.471935</td>\n",
       "      <td>0.197141</td>\n",
       "      <td>0.464834</td>\n",
       "      <td>0.581805</td>\n",
       "      <td>0.589748</td>\n",
       "      <td>0.467909</td>\n",
       "      <td>0.866312</td>\n",
       "      <td>0.879643</td>\n",
       "      <td>0.992678</td>\n",
       "      <td>High</td>\n",
       "    </tr>\n",
       "    <tr>\n",
       "      <th>3</th>\n",
       "      <td>0.954224</td>\n",
       "      <td>0.703427</td>\n",
       "      <td>0.201584</td>\n",
       "      <td>0.793310</td>\n",
       "      <td>0.475663</td>\n",
       "      <td>0.221560</td>\n",
       "      <td>0.448183</td>\n",
       "      <td>0.596628</td>\n",
       "      <td>0.599580</td>\n",
       "      <td>0.515380</td>\n",
       "      <td>0.862633</td>\n",
       "      <td>0.900511</td>\n",
       "      <td>0.992858</td>\n",
       "      <td>High</td>\n",
       "    </tr>\n",
       "    <tr>\n",
       "      <th>4</th>\n",
       "      <td>0.951392</td>\n",
       "      <td>0.657328</td>\n",
       "      <td>0.180706</td>\n",
       "      <td>0.783033</td>\n",
       "      <td>0.428956</td>\n",
       "      <td>0.197141</td>\n",
       "      <td>0.487382</td>\n",
       "      <td>0.585510</td>\n",
       "      <td>0.568067</td>\n",
       "      <td>0.481131</td>\n",
       "      <td>0.863246</td>\n",
       "      <td>0.899039</td>\n",
       "      <td>0.992868</td>\n",
       "      <td>High</td>\n",
       "    </tr>\n",
       "  </tbody>\n",
       "</table>\n",
       "</div>"
      ],
      "text/plain": [
       "       COGT  PT08.S1CO    NMHCGT    C6H6GT  PT08.S2NMHC     NOxGT  PT08.S3NOx  \\\n",
       "0  0.956111   0.696506  0.251980  0.803369     0.515949  0.217987    0.435782   \n",
       "1  0.953280   0.666257  0.224622  0.793949     0.478355  0.180465    0.476541   \n",
       "2  0.954224   0.715258  0.207343  0.792434     0.471935  0.197141    0.464834   \n",
       "3  0.954224   0.703427  0.201584  0.793310     0.475663  0.221560    0.448183   \n",
       "4  0.951392   0.657328  0.180706  0.783033     0.428956  0.197141    0.487382   \n",
       "\n",
       "      NO2GT  PT08.S4NO2  PT08.S5O3         T        RH        AH RH_Bins  \n",
       "0  0.579952    0.635966   0.538977  0.873262  0.861979  0.992715    High  \n",
       "1  0.541041    0.591176   0.430539  0.872036  0.857910  0.992555  Medium  \n",
       "2  0.581805    0.589748   0.467909  0.866312  0.879643  0.992678    High  \n",
       "3  0.596628    0.599580   0.515380  0.862633  0.900511  0.992858    High  \n",
       "4  0.585510    0.568067   0.481131  0.863246  0.899039  0.992868    High  "
      ]
     },
     "execution_count": 59,
     "metadata": {},
     "output_type": "execute_result"
    }
   ],
   "source": [
    "normalised_data.head()"
   ]
  },
  {
   "cell_type": "code",
   "execution_count": 60,
   "metadata": {},
   "outputs": [
    {
     "data": {
      "text/plain": [
       "Index(['COGT', 'PT08.S1CO', 'NMHCGT', 'C6H6GT', 'PT08.S2NMHC', 'NOxGT',\n",
       "       'PT08.S3NOx', 'NO2GT', 'PT08.S4NO2', 'PT08.S5O3', 'T', 'RH', 'AH'],\n",
       "      dtype='object')"
      ]
     },
     "execution_count": 60,
     "metadata": {},
     "output_type": "execute_result"
    }
   ],
   "source": [
    "normalised_data.columns[:-1]"
   ]
  },
  {
   "cell_type": "code",
   "execution_count": 61,
   "metadata": {},
   "outputs": [],
   "source": [
    "for col in normalised_data.columns[:-1]:\n",
    "    try: \n",
    "        normalised_data[f\"{col}_Bins\"] = pd.qcut(cleaned_data[col], q=4, labels=['Low', 'Medium', 'High', 'Very High'])\n",
    "    except ValueError:\n",
    "        pass"
   ]
  },
  {
   "cell_type": "code",
   "execution_count": 62,
   "metadata": {},
   "outputs": [
    {
     "data": {
      "text/plain": [
       "Index(['COGT', 'PT08.S1CO', 'NMHCGT', 'C6H6GT', 'PT08.S2NMHC', 'NOxGT',\n",
       "       'PT08.S3NOx', 'NO2GT', 'PT08.S4NO2', 'PT08.S5O3', 'T', 'RH', 'AH',\n",
       "       'RH_Bins', 'COGT_Bins', 'PT08.S1CO_Bins', 'C6H6GT_Bins',\n",
       "       'PT08.S2NMHC_Bins', 'NOxGT_Bins', 'PT08.S3NOx_Bins', 'NO2GT_Bins',\n",
       "       'PT08.S4NO2_Bins', 'PT08.S5O3_Bins', 'T_Bins', 'AH_Bins'],\n",
       "      dtype='object')"
      ]
     },
     "execution_count": 62,
     "metadata": {},
     "output_type": "execute_result"
    }
   ],
   "source": [
    "normalised_data.columns"
   ]
  },
  {
   "cell_type": "code",
   "execution_count": 63,
   "metadata": {},
   "outputs": [
    {
     "data": {
      "text/html": [
       "<div>\n",
       "<style scoped>\n",
       "    .dataframe tbody tr th:only-of-type {\n",
       "        vertical-align: middle;\n",
       "    }\n",
       "\n",
       "    .dataframe tbody tr th {\n",
       "        vertical-align: top;\n",
       "    }\n",
       "\n",
       "    .dataframe thead th {\n",
       "        text-align: right;\n",
       "    }\n",
       "</style>\n",
       "<table border=\"1\" class=\"dataframe\">\n",
       "  <thead>\n",
       "    <tr style=\"text-align: right;\">\n",
       "      <th></th>\n",
       "      <th>COGT</th>\n",
       "      <th>PT08.S1CO</th>\n",
       "      <th>NMHCGT</th>\n",
       "      <th>C6H6GT</th>\n",
       "      <th>PT08.S2NMHC</th>\n",
       "      <th>NOxGT</th>\n",
       "      <th>PT08.S3NOx</th>\n",
       "      <th>NO2GT</th>\n",
       "      <th>PT08.S4NO2</th>\n",
       "      <th>PT08.S5O3</th>\n",
       "      <th>...</th>\n",
       "      <th>PT08.S1CO_Bins</th>\n",
       "      <th>C6H6GT_Bins</th>\n",
       "      <th>PT08.S2NMHC_Bins</th>\n",
       "      <th>NOxGT_Bins</th>\n",
       "      <th>PT08.S3NOx_Bins</th>\n",
       "      <th>NO2GT_Bins</th>\n",
       "      <th>PT08.S4NO2_Bins</th>\n",
       "      <th>PT08.S5O3_Bins</th>\n",
       "      <th>T_Bins</th>\n",
       "      <th>AH_Bins</th>\n",
       "    </tr>\n",
       "  </thead>\n",
       "  <tbody>\n",
       "    <tr>\n",
       "      <th>0</th>\n",
       "      <td>0.956111</td>\n",
       "      <td>0.696506</td>\n",
       "      <td>0.251980</td>\n",
       "      <td>0.803369</td>\n",
       "      <td>0.515949</td>\n",
       "      <td>0.217987</td>\n",
       "      <td>0.435782</td>\n",
       "      <td>0.579952</td>\n",
       "      <td>0.635966</td>\n",
       "      <td>0.538977</td>\n",
       "      <td>...</td>\n",
       "      <td>Very High</td>\n",
       "      <td>High</td>\n",
       "      <td>High</td>\n",
       "      <td>High</td>\n",
       "      <td>Very High</td>\n",
       "      <td>High</td>\n",
       "      <td>Very High</td>\n",
       "      <td>Very High</td>\n",
       "      <td>Medium</td>\n",
       "      <td>Medium</td>\n",
       "    </tr>\n",
       "    <tr>\n",
       "      <th>1</th>\n",
       "      <td>0.953280</td>\n",
       "      <td>0.666257</td>\n",
       "      <td>0.224622</td>\n",
       "      <td>0.793949</td>\n",
       "      <td>0.478355</td>\n",
       "      <td>0.180465</td>\n",
       "      <td>0.476541</td>\n",
       "      <td>0.541041</td>\n",
       "      <td>0.591176</td>\n",
       "      <td>0.430539</td>\n",
       "      <td>...</td>\n",
       "      <td>Very High</td>\n",
       "      <td>High</td>\n",
       "      <td>High</td>\n",
       "      <td>Medium</td>\n",
       "      <td>Very High</td>\n",
       "      <td>Medium</td>\n",
       "      <td>High</td>\n",
       "      <td>High</td>\n",
       "      <td>Medium</td>\n",
       "      <td>Medium</td>\n",
       "    </tr>\n",
       "    <tr>\n",
       "      <th>2</th>\n",
       "      <td>0.954224</td>\n",
       "      <td>0.715258</td>\n",
       "      <td>0.207343</td>\n",
       "      <td>0.792434</td>\n",
       "      <td>0.471935</td>\n",
       "      <td>0.197141</td>\n",
       "      <td>0.464834</td>\n",
       "      <td>0.581805</td>\n",
       "      <td>0.589748</td>\n",
       "      <td>0.467909</td>\n",
       "      <td>...</td>\n",
       "      <td>Very High</td>\n",
       "      <td>High</td>\n",
       "      <td>High</td>\n",
       "      <td>Medium</td>\n",
       "      <td>Very High</td>\n",
       "      <td>High</td>\n",
       "      <td>High</td>\n",
       "      <td>High</td>\n",
       "      <td>Medium</td>\n",
       "      <td>Medium</td>\n",
       "    </tr>\n",
       "    <tr>\n",
       "      <th>3</th>\n",
       "      <td>0.954224</td>\n",
       "      <td>0.703427</td>\n",
       "      <td>0.201584</td>\n",
       "      <td>0.793310</td>\n",
       "      <td>0.475663</td>\n",
       "      <td>0.221560</td>\n",
       "      <td>0.448183</td>\n",
       "      <td>0.596628</td>\n",
       "      <td>0.599580</td>\n",
       "      <td>0.515380</td>\n",
       "      <td>...</td>\n",
       "      <td>Very High</td>\n",
       "      <td>High</td>\n",
       "      <td>High</td>\n",
       "      <td>High</td>\n",
       "      <td>Very High</td>\n",
       "      <td>High</td>\n",
       "      <td>High</td>\n",
       "      <td>High</td>\n",
       "      <td>Medium</td>\n",
       "      <td>Medium</td>\n",
       "    </tr>\n",
       "    <tr>\n",
       "      <th>4</th>\n",
       "      <td>0.951392</td>\n",
       "      <td>0.657328</td>\n",
       "      <td>0.180706</td>\n",
       "      <td>0.783033</td>\n",
       "      <td>0.428956</td>\n",
       "      <td>0.197141</td>\n",
       "      <td>0.487382</td>\n",
       "      <td>0.585510</td>\n",
       "      <td>0.568067</td>\n",
       "      <td>0.481131</td>\n",
       "      <td>...</td>\n",
       "      <td>Very High</td>\n",
       "      <td>Medium</td>\n",
       "      <td>Medium</td>\n",
       "      <td>Medium</td>\n",
       "      <td>Very High</td>\n",
       "      <td>High</td>\n",
       "      <td>High</td>\n",
       "      <td>High</td>\n",
       "      <td>Medium</td>\n",
       "      <td>Medium</td>\n",
       "    </tr>\n",
       "  </tbody>\n",
       "</table>\n",
       "<p>5 rows × 25 columns</p>\n",
       "</div>"
      ],
      "text/plain": [
       "       COGT  PT08.S1CO    NMHCGT    C6H6GT  PT08.S2NMHC     NOxGT  PT08.S3NOx  \\\n",
       "0  0.956111   0.696506  0.251980  0.803369     0.515949  0.217987    0.435782   \n",
       "1  0.953280   0.666257  0.224622  0.793949     0.478355  0.180465    0.476541   \n",
       "2  0.954224   0.715258  0.207343  0.792434     0.471935  0.197141    0.464834   \n",
       "3  0.954224   0.703427  0.201584  0.793310     0.475663  0.221560    0.448183   \n",
       "4  0.951392   0.657328  0.180706  0.783033     0.428956  0.197141    0.487382   \n",
       "\n",
       "      NO2GT  PT08.S4NO2  PT08.S5O3  ...  PT08.S1CO_Bins  C6H6GT_Bins  \\\n",
       "0  0.579952    0.635966   0.538977  ...       Very High         High   \n",
       "1  0.541041    0.591176   0.430539  ...       Very High         High   \n",
       "2  0.581805    0.589748   0.467909  ...       Very High         High   \n",
       "3  0.596628    0.599580   0.515380  ...       Very High         High   \n",
       "4  0.585510    0.568067   0.481131  ...       Very High       Medium   \n",
       "\n",
       "   PT08.S2NMHC_Bins NOxGT_Bins PT08.S3NOx_Bins NO2GT_Bins PT08.S4NO2_Bins  \\\n",
       "0              High       High       Very High       High       Very High   \n",
       "1              High     Medium       Very High     Medium            High   \n",
       "2              High     Medium       Very High       High            High   \n",
       "3              High       High       Very High       High            High   \n",
       "4            Medium     Medium       Very High       High            High   \n",
       "\n",
       "  PT08.S5O3_Bins  T_Bins AH_Bins  \n",
       "0      Very High  Medium  Medium  \n",
       "1           High  Medium  Medium  \n",
       "2           High  Medium  Medium  \n",
       "3           High  Medium  Medium  \n",
       "4           High  Medium  Medium  \n",
       "\n",
       "[5 rows x 25 columns]"
      ]
     },
     "execution_count": 63,
     "metadata": {},
     "output_type": "execute_result"
    }
   ],
   "source": [
    "normalised_data.head()"
   ]
  },
  {
   "cell_type": "code",
   "execution_count": 71,
   "metadata": {},
   "outputs": [],
   "source": [
    "# visualising the bins. if needed uncomment the code below\n",
    "# for col in normalised_data.columns:\n",
    "#     if \"_Bins\" in col:\n",
    "#         plt.figure(figsize=(8, 4))\n",
    "#         colors = [\"#%06x\" % random.randint(0, 0xFFFFFF) for _ in range(4)]\n",
    "#         normalised_data[col].value_counts().plot(kind='bar', color=colors)\n",
    "#         plt.title(f'Distribution of Binned Values for {col}')\n",
    "#         plt.xlabel('Bins')\n",
    "#         plt.ylabel('Count')\n",
    "#         plt.xticks(rotation=45)\n",
    "#     plt.show()"
   ]
  },
  {
   "cell_type": "code",
   "execution_count": null,
   "metadata": {},
   "outputs": [],
   "source": []
  }
 ],
 "metadata": {
  "kernelspec": {
   "display_name": "abda",
   "language": "python",
   "name": "python3"
  },
  "language_info": {
   "codemirror_mode": {
    "name": "ipython",
    "version": 3
   },
   "file_extension": ".py",
   "mimetype": "text/x-python",
   "name": "python",
   "nbconvert_exporter": "python",
   "pygments_lexer": "ipython3",
   "version": "3.11.11"
  }
 },
 "nbformat": 4,
 "nbformat_minor": 2
}
